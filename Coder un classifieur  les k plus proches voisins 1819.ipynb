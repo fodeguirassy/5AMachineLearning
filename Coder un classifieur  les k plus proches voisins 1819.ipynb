{
 "cells": [
  {
   "cell_type": "markdown",
   "metadata": {},
   "source": [
    "#  Méthode des  k-plus proches voisins\n",
    "\n",
    "Dans ce TP, vous devez coder et évaluer votre propre classifieur : une version de l'algorithme des k plus proches voisins.\n",
    "\n",
    "Algorithme :\n",
    "\n",
    "- Au préalable, il est nécessaire de \n",
    "\n",
    "    - définir une métrique sur l'espace des exemples (x) : une fonction (nommée distance par la suite) qui prend en paramètre 2 exemples (2 lignes) et qui renvoie un float valant la distance de l'un à l'autre. Par exemple, sur le dataset digits, la fonction doit permettre de calculer une mesure de ressemblance entre 2 images. On utilise généralement la distance euclidienne en dimension n (n = nb de colonnes du dataset)\n",
    "    \n",
    "    - de choisir l'entier k, un paramètre de l'algorithme\n",
    "\n",
    "\n",
    "- Phase d'apprentissage : aucune \n",
    "\n",
    "- Phase de prédiction : comment classer un newx ?\n",
    "\n",
    "    - Récupérer les *k plus proches voisins* de newx (et leur classes), au sens de la distance établie\n",
    "    - établir la classe de newx par un *vote à la majorité* des voisins   \n",
    "    \n",
    "\n"
   ]
  },
  {
   "cell_type": "code",
   "execution_count": 2,
   "metadata": {},
   "outputs": [
    {
     "data": {
      "image/png": "[encoded data removed]",
      "text/plain": [
       "<IPython.core.display.Image object>"
      ]
     },
     "metadata": {
      "image/png": {
       "width": 300
      }
     },
     "output_type": "display_data"
    }
   ],
   "source": [
    "from IPython.core.display import Image, display\n",
    "display(Image('http://rec.emotions.free.fr/_files/images/figures/recons09.png', width=300))\n"
   ]
  },
  {
   "cell_type": "markdown",
   "metadata": {},
   "source": [
    "1. Coder une fonction distance qui renvoie la distance euclidienne entre 2 exemples. Voir np.linalg.norm \n",
    "\n",
    "2. Coder une fonction kppvPredict(xtrain, ytrain, new, k ) qui renvoie la prediction de la classe d'un nouvel exemple new par une méthode des k plus proches voisins. Les paramètres xtrain et ytrain désignent l'ensemble d'apprentissage. La fonction fera appel à la fonction distance (ou mieux, elle pourra figurer en paramètre puisque python le permet). Voir Counter.most_common\n",
    "\n",
    "3. Comparer vos résultats avec un autre classifieur de sklearn et trouver une valeur optimale pour k"
   ]
  },
  {
   "cell_type": "code",
   "execution_count": 16,
   "metadata": {},
   "outputs": [
    {
     "name": "stdout",
     "output_type": "stream",
     "text": [
      "0.0\n"
     ]
    }
   ],
   "source": [
    "import numpy as np\n",
    "from  collections import Counter\n",
    "from sklearn.datasets import load_digits\n",
    "\n",
    "digits = load_digits()\n",
    "digits.data\n",
    "digits.target\n",
    "\n",
    "def getDistance(arr):\n",
    "    return np.linalg.norm(arr)\n",
    "\n",
    "def kppvPredict(x,y,new,k):\n",
    "    '''\n",
    "        Récupérer les x[i] les plus proches de new \n",
    "        Récupérer la classe des voisins\n",
    "        Faire le vote\n",
    "    '''\n",
    "    closests = [1800]\n",
    "   \n",
    "    for i in x:\n",
    "        closests.append(getDistance(i-new))\n",
    "    print(np.min(closests))\n",
    "\n",
    "kppvPredict(digits.data, digits.target, digits.data[56], 20)\n",
    "\n",
    "\n",
    "\n",
    "\n"
   ]
  },
  {
   "cell_type": "code",
   "execution_count": null,
   "metadata": {},
   "outputs": [],
   "source": []
  }
 ],
 "metadata": {
  "kernelspec": {
   "display_name": "Python 2",
   "language": "python",
   "name": "python2"
  },
  "language_info": {
   "codemirror_mode": {
    "name": "ipython",
    "version": 2
   },
   "file_extension": ".py",
   "mimetype": "text/x-python",
   "name": "python",
   "nbconvert_exporter": "python",
   "pygments_lexer": "ipython2",
   "version": "2.7.15"
  }
 },
 "nbformat": 4,
 "nbformat_minor": 1
}
