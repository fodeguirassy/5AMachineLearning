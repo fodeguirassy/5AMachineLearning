{
 "cells": [
  {
   "cell_type": "markdown",
   "metadata": {},
   "source": [
    "# Créer son propre dataset OCR\n",
    "\n",
    "Ici, vous devez vous même créer les données de reconnaissance des caractères manuscrits. \n",
    "L'idée n'est pas de construire un classifieur très compliqué (on pourra se limiter aux k plus proches voisins), mais de bien comrendre l'importance du prétraitement dans la performance de la classification. "
   ]
  },
  {
   "cell_type": "markdown",
   "metadata": {},
   "source": [
    "Il y a 2 tâches à réaliser : \n",
    "- extraire et préparer les données brutes à partir de fichiers images (des planches de nombres manuscrits)\n",
    "- voir quels effets améliorent la reconnaissance. Parmis les effets à tester, on a : la couleur (RGB, greyscale ou noir et blanc), la résolution de l'image, l'ajout de flou, l'ajout de netteté, ..."
   ]
  },
  {
   "cell_type": "markdown",
   "metadata": {},
   "source": [
    "Ci dessous, quelques fonctions utiles pour manipuler les images avec PIL.\n",
    "https://pillow.readthedocs.io/en/4.0.x/reference/Image.html"
   ]
  },
  {
   "cell_type": "code",
   "execution_count": 1,
   "metadata": {
    "collapsed": false
   },
   "outputs": [],
   "source": [
    "from PIL import Image, ImageFilter \n",
    "import numpy as np\n",
    "import matplotlib.pyplot as plt\n",
    "%matplotlib inline\n",
    "from IPython.display import display "
   ]
  },
  {
   "cell_type": "code",
   "execution_count": 2,
   "metadata": {
    "collapsed": false
   },
   "outputs": [],
   "source": [
    "im = Image.open(\"p001.bmp\")"
   ]
  },
  {
   "cell_type": "code",
   "execution_count": 3,
   "metadata": {
    "collapsed": false
   },
   "outputs": [],
   "source": [
    "#im.show()"
   ]
  },
  {
   "cell_type": "markdown",
   "metadata": {},
   "source": [
    "# 1. Cropping"
   ]
  },
  {
   "cell_type": "code",
   "execution_count": 4,
   "metadata": {
    "collapsed": false
   },
   "outputs": [],
   "source": [
    "import os\n",
    "\n",
    "def cropGrille(xinit, y, dx, dy, margex, margey, file, show=False):\n",
    "    #plt.rcParams.update({'figure.max_open_warning': 0})\n",
    "    x=xinit\n",
    "    im = Image.open(file)\n",
    "    rep = file[0:len(file)-4]\n",
    "    print(rep)\n",
    "    os.mkdir(rep)\n",
    "    \n",
    "    dataX=[]\n",
    "    labelY=[]\n",
    "    dataset=[]\n",
    "    \n",
    "            \n",
    "    for j in range(10):\n",
    "    #for j in [0,5,9]:\n",
    "        x=xinit\n",
    "        for i in range(10):\n",
    "            #box = (x, y, x+dx, y+dy)\n",
    "            box = (x+margex, y+margey, x+dx-margex, y+dy-margey)\n",
    "            region = im.crop(box)\n",
    "            \n",
    "            # pour ajuster le cropping\n",
    "            if(show) :\n",
    "                if i in [0,5,9]:\n",
    "                    plt.figure()\n",
    "                    plt.imshow(region)\n",
    "                   \n",
    "            # Prétraitement\n",
    "            region = region.convert('L')\n",
    "            region = region.resize((42, 38), Image.ANTIALIAS)\n",
    "            region.save(os.getcwd() +'\\\\'+rep+'\\\\'+str(j)+str(i)+'.png')\n",
    "            \n",
    "            # construire le dataset non contrarié\n",
    "            if(file in [\"p004.bmp\" ,\"p006.bmp\" , \"p007.bmp\" , \"p008.bmp\", \"p009.bmp\", \"p010.bmp\"]): \n",
    "            \n",
    "                pix = np.array(region )\n",
    "                pix = pix.reshape((region.size[0]*region.size[1],))\n",
    "                \n",
    "                dataX.append(pix)\n",
    "                if(file!=\"p010.bmp\"):\n",
    "                    labelY.append((j+1)%10)# à cause de l'ordre 1 .. 9 puis 0\n",
    "                else :\n",
    "                    labelY.append(j)\n",
    "                               \n",
    "            x+=dx  \n",
    "        y=y+dy \n",
    "        \n",
    "    return  np.array(dataX), np.array(labelY)\n",
    "\n"
   ]
  },
  {
   "cell_type": "markdown",
   "metadata": {},
   "source": [
    "cropGrille(144, 221, 94, 109, 8, 12, \"p001.bmp\")\n",
    "cropGrille(142, 215, 94, 109, 8, 12, \"p002.bmp\")\n",
    "cropGrille(148, 225, 94, 109, 8, 12, \"p003.bmp\")\n",
    "cropGrille(148, 225, 94, 109, 8, 12, \"p005.bmp\")\n"
   ]
  },
  {
   "cell_type": "code",
   "execution_count": 5,
   "metadata": {
    "collapsed": false
   },
   "outputs": [
    {
     "name": "stdout",
     "output_type": "stream",
     "text": [
      "p004\n"
     ]
    },
    {
     "data": {
      "text/plain": [
       "((100, 1596), (100,))"
      ]
     },
     "execution_count": 5,
     "metadata": {},
     "output_type": "execute_result"
    }
   ],
   "source": [
    "x,y=cropGrille(150, 225, 94, 109, 10, 14, \"p004.bmp\")\n",
    "x.shape, y.shape"
   ]
  },
  {
   "cell_type": "code",
   "execution_count": 6,
   "metadata": {
    "collapsed": false
   },
   "outputs": [
    {
     "name": "stdout",
     "output_type": "stream",
     "text": [
      "p006\n"
     ]
    },
    {
     "data": {
      "text/plain": [
       "((200, 1596), (200,))"
      ]
     },
     "execution_count": 6,
     "metadata": {},
     "output_type": "execute_result"
    }
   ],
   "source": [
    "a, b = cropGrille(149, 225, 94, 109, 10, 14, \"p006.bmp\")\n",
    "x=np.append(x,a, axis = 0)\n",
    "y=np.append(y,b)\n",
    "x.shape, y.shape"
   ]
  },
  {
   "cell_type": "code",
   "execution_count": 7,
   "metadata": {
    "collapsed": false
   },
   "outputs": [
    {
     "name": "stdout",
     "output_type": "stream",
     "text": [
      "p007\n"
     ]
    },
    {
     "data": {
      "text/plain": [
       "((300, 1596), (300,))"
      ]
     },
     "execution_count": 7,
     "metadata": {},
     "output_type": "execute_result"
    }
   ],
   "source": [
    "a, b =cropGrille(152, 225, 94, 109, 10, 14, \"p007.bmp\")\n",
    "x=np.append(x,a, axis = 0)\n",
    "y=np.append(y,b)\n",
    "x.shape, y.shape"
   ]
  },
  {
   "cell_type": "code",
   "execution_count": 8,
   "metadata": {
    "collapsed": false
   },
   "outputs": [
    {
     "name": "stdout",
     "output_type": "stream",
     "text": [
      "p008\n"
     ]
    },
    {
     "data": {
      "text/plain": [
       "((400, 1596), (400,))"
      ]
     },
     "execution_count": 8,
     "metadata": {},
     "output_type": "execute_result"
    }
   ],
   "source": [
    "a, b =cropGrille(153, 225, 94, 109, 10, 14, \"p008.bmp\")\n",
    "x=np.append(x,a, axis = 0)\n",
    "y=np.append(y,b)\n",
    "x.shape, y.shape\n"
   ]
  },
  {
   "cell_type": "code",
   "execution_count": 9,
   "metadata": {
    "collapsed": false
   },
   "outputs": [
    {
     "name": "stdout",
     "output_type": "stream",
     "text": [
      "p009\n"
     ]
    },
    {
     "data": {
      "text/plain": [
       "((500, 1596), (500,))"
      ]
     },
     "execution_count": 9,
     "metadata": {},
     "output_type": "execute_result"
    }
   ],
   "source": [
    "a, b =cropGrille(152, 225, 94, 109, 10, 14, \"p009.bmp\")\n",
    "x=np.append(x,a, axis = 0)\n",
    "y=np.append(y,b)\n",
    "x.shape, y.shape"
   ]
  },
  {
   "cell_type": "code",
   "execution_count": 10,
   "metadata": {
    "collapsed": false
   },
   "outputs": [
    {
     "name": "stdout",
     "output_type": "stream",
     "text": [
      "p010\n"
     ]
    },
    {
     "data": {
      "text/plain": [
       "((600, 1596), (600,))"
      ]
     },
     "execution_count": 10,
     "metadata": {},
     "output_type": "execute_result"
    }
   ],
   "source": [
    "a, b =cropGrille(152, 225, 94, 109, 10, 14, \"p010.bmp\")\n",
    "x=np.append(x,a, axis = 0)\n",
    "y=np.append(y,b)\n",
    "x.shape, y.shape"
   ]
  },
  {
   "cell_type": "raw",
   "metadata": {},
   "source": [
    "# Pour afficher les images dans une grille\n",
    "\n",
    "fig, axs = plt.subplots(2, 5, sharex=True, sharey=True)\n",
    "# l doit contenir une liste d'images PIL\n",
    "for i in range(len(l)):\n",
    "    plt.figure()\n",
    "    axs[i//5, i%5].imshow(l[i])\n",
    "    plt.show()\n",
    "   \n"
   ]
  },
  {
   "cell_type": "markdown",
   "metadata": {},
   "source": [
    "# 2. création dataset"
   ]
  },
  {
   "cell_type": "code",
   "execution_count": 11,
   "metadata": {
    "collapsed": false
   },
   "outputs": [
    {
     "data": {
      "text/plain": [
       "((600, 1596), (600,))"
      ]
     },
     "execution_count": 11,
     "metadata": {},
     "output_type": "execute_result"
    }
   ],
   "source": [
    "x.shape, y.shape"
   ]
  },
  {
   "cell_type": "code",
   "execution_count": 12,
   "metadata": {
    "collapsed": false
   },
   "outputs": [
    {
     "name": "stdout",
     "output_type": "stream",
     "text": [
      "Counter({0: 60, 1: 60, 2: 60, 3: 60, 4: 60, 5: 60, 6: 60, 7: 60, 8: 60, 9: 60})\n"
     ]
    }
   ],
   "source": [
    "from  collections import Counter\n",
    "\n",
    "print(Counter(y))"
   ]
  },
  {
   "cell_type": "code",
   "execution_count": 13,
   "metadata": {
    "collapsed": false
   },
   "outputs": [
    {
     "name": "stdout",
     "output_type": "stream",
     "text": [
      "[5]\n"
     ]
    }
   ],
   "source": [
    "from sklearn.neural_network import MLPClassifier\n",
    "#clf2 = MLPClassifier().fit(x,y) \n",
    "from sklearn import svm\n",
    "clf = svm.SVC(gamma=0.001, C=100.).fit(x,y)\n",
    "from sklearn import tree\n",
    "#clf3 = tree.DecisionTreeClassifier().fit(x,y)\n",
    " \n",
    "from sklearn import neighbors\n",
    "\n",
    "clf4 = neighbors.KNeighborsClassifier(n_neighbors=5).fit(x,y)\n",
    "  \n",
    "\n",
    "#print(clf2.predict(x[43].reshape(1, -1)))# equivalent à \n",
    "#print(clf2.predict([x[43]]))\n",
    "print(clf.predict([x[43]]))\n",
    "\n",
    "\n"
   ]
  },
  {
   "cell_type": "code",
   "execution_count": null,
   "metadata": {
    "collapsed": true
   },
   "outputs": [],
   "source": [
    "import random\n",
    "def data_split(x, y, prob):\n",
    "        train,test=[],[]\n",
    "        d=zip(x,y)\n",
    "        for line in d:\n",
    "            if(random.random()<prob):\n",
    "                train.append(line)\n",
    "            else :\n",
    "                test.append(line)\n",
    "        \n",
    "        x_train,y_train=list(zip(*train))\n",
    "        x_test,y_test=list(zip(*test))\n",
    "        return x_train,y_train, x_test,y_test"
   ]
  },
  {
   "cell_type": "code",
   "execution_count": 14,
   "metadata": {
    "collapsed": true
   },
   "outputs": [],
   "source": [
    "def accuracy(y_pred,y) : \n",
    "    return (sum(y_pred == y))/len(y)"
   ]
  },
  {
   "cell_type": "code",
   "execution_count": 15,
   "metadata": {
    "collapsed": false
   },
   "outputs": [
    {
     "data": {
      "text/plain": [
       "1.0"
      ]
     },
     "execution_count": 15,
     "metadata": {},
     "output_type": "execute_result"
    }
   ],
   "source": [
    "y_pred = clf.predict(x)\n",
    "\n",
    "accuracy(y_pred,y)"
   ]
  },
  {
   "cell_type": "code",
   "execution_count": 16,
   "metadata": {
    "collapsed": false
   },
   "outputs": [
    {
     "data": {
      "text/plain": [
       "5"
      ]
     },
     "execution_count": 16,
     "metadata": {},
     "output_type": "execute_result"
    }
   ],
   "source": [
    "y[43]"
   ]
  },
  {
   "cell_type": "code",
   "execution_count": 17,
   "metadata": {
    "collapsed": false
   },
   "outputs": [
    {
     "ename": "ValueError",
     "evalue": "total size of new array must be unchanged",
     "output_type": "error",
     "traceback": [
      "\u001b[0;31m---------------------------------------------------------------------------\u001b[0m",
      "\u001b[0;31mValueError\u001b[0m                                Traceback (most recent call last)",
      "\u001b[0;32m<ipython-input-17-8940520cccca>\u001b[0m in \u001b[0;36m<module>\u001b[0;34m()\u001b[0m\n\u001b[1;32m      1\u001b[0m \u001b[1;32mimport\u001b[0m \u001b[0mmatplotlib\u001b[0m\u001b[1;33m.\u001b[0m\u001b[0mpyplot\u001b[0m \u001b[1;32mas\u001b[0m \u001b[0mplt\u001b[0m\u001b[1;33m\u001b[0m\u001b[0m\n\u001b[1;32m      2\u001b[0m \u001b[0mplt\u001b[0m\u001b[1;33m.\u001b[0m\u001b[0mgray\u001b[0m\u001b[1;33m(\u001b[0m\u001b[1;33m)\u001b[0m\u001b[1;33m\u001b[0m\u001b[0m\n\u001b[0;32m----> 3\u001b[0;31m \u001b[0mplt\u001b[0m\u001b[1;33m.\u001b[0m\u001b[0mmatshow\u001b[0m\u001b[1;33m(\u001b[0m\u001b[0mx\u001b[0m\u001b[1;33m[\u001b[0m\u001b[1;36m43\u001b[0m\u001b[1;33m]\u001b[0m\u001b[1;33m.\u001b[0m\u001b[0mreshape\u001b[0m\u001b[1;33m(\u001b[0m\u001b[1;36m85\u001b[0m\u001b[1;33m,\u001b[0m\u001b[1;36m78\u001b[0m\u001b[1;33m)\u001b[0m\u001b[1;33m)\u001b[0m\u001b[1;33m\u001b[0m\u001b[0m\n\u001b[0m\u001b[1;32m      4\u001b[0m \u001b[0mplt\u001b[0m\u001b[1;33m.\u001b[0m\u001b[0mshow\u001b[0m\u001b[1;33m(\u001b[0m\u001b[1;33m)\u001b[0m\u001b[1;33m\u001b[0m\u001b[0m\n",
      "\u001b[0;31mValueError\u001b[0m: total size of new array must be unchanged"
     ]
    },
    {
     "data": {
      "text/plain": [
       "<matplotlib.figure.Figure at 0x2a2cf067550>"
      ]
     },
     "metadata": {},
     "output_type": "display_data"
    }
   ],
   "source": [
    "import matplotlib.pyplot as plt \n",
    "plt.gray() \n",
    "plt.matshow(x[43].reshape(85,78)) \n",
    "plt.show()"
   ]
  },
  {
   "cell_type": "markdown",
   "metadata": {},
   "source": [
    "On vérifie que le 1-ppv marche bien sur un exemple qui a servi pour l'apprentissage"
   ]
  },
  {
   "cell_type": "code",
   "execution_count": null,
   "metadata": {
    "collapsed": false
   },
   "outputs": [],
   "source": [
    "from  collections import Counter\n",
    "\n",
    "def kppv(x, y, new_point, k):\n",
    "    def dist(a,b):\n",
    "        return np.linalg.norm(a-b)\n",
    "\n",
    "    labeled_points=zip(x,y)\n",
    "    by_distance = sorted(labeled_points,\n",
    "                         key=lambda point_label: dist(point_label[0], new_point))\n",
    "    k_nearest_labels = [label for _, label in by_distance[:k]]\n",
    "    return(Counter(k_nearest_labels).most_common()[0] [0])"
   ]
  },
  {
   "cell_type": "code",
   "execution_count": null,
   "metadata": {
    "collapsed": false
   },
   "outputs": [],
   "source": [
    "for  k in range(1,15):\n",
    "     print(kppv(x, y, x[43], k))"
   ]
  },
  {
   "cell_type": "markdown",
   "metadata": {},
   "source": [
    "# Performance"
   ]
  },
  {
   "cell_type": "code",
   "execution_count": 20,
   "metadata": {
    "collapsed": false
   },
   "outputs": [
    {
     "data": {
      "text/plain": [
       "0.28333333333333333"
      ]
     },
     "execution_count": 20,
     "metadata": {},
     "output_type": "execute_result"
    }
   ],
   "source": [
    "from sklearn.model_selection import train_test_split\n",
    "from sklearn import datasets\n",
    "\n",
    "X_train, X_test, y_train, y_test = train_test_split(\n",
    "    x, y, test_size=0.4, random_state=0)\n",
    "\n",
    "X_train.shape, y_train.shape\n",
    "\n",
    "X_test.shape, y_test.shape\n",
    "\n",
    "\n",
    "clf = tree.DecisionTreeClassifier().fit(X_train, y_train)\n",
    "\n",
    "clf.score(X_test, y_test)  "
   ]
  },
  {
   "cell_type": "code",
   "execution_count": 21,
   "metadata": {
    "collapsed": false
   },
   "outputs": [
    {
     "data": {
      "text/plain": [
       "array([ 0.35833333,  0.25833333,  0.25833333,  0.35      ,  0.25833333])"
      ]
     },
     "execution_count": 21,
     "metadata": {},
     "output_type": "execute_result"
    }
   ],
   "source": [
    "from sklearn.model_selection import cross_val_score\n",
    "clf = tree.DecisionTreeClassifier()\n",
    "scores = cross_val_score(clf, x, y, cv=5)\n",
    "scores "
   ]
  },
  {
   "cell_type": "code",
   "execution_count": null,
   "metadata": {
    "collapsed": true
   },
   "outputs": [],
   "source": []
  }
 ],
 "metadata": {
  "kernelspec": {
   "display_name": "Python 2",
   "language": "python",
   "name": "python2"
  },
  "language_info": {
   "codemirror_mode": {
    "name": "ipython",
    "version": 2
   },
   "file_extension": ".py",
   "mimetype": "text/x-python",
   "name": "python",
   "nbconvert_exporter": "python",
   "pygments_lexer": "ipython2",
   "version": "2.7.15"
  }
 },
 "nbformat": 4,
 "nbformat_minor": 2
}
