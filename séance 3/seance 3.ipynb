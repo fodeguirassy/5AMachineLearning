{
 "cells": [
  {
   "cell_type": "markdown",
   "metadata": {},
   "source": [
    "# Créer son propre dataset OCR\n",
    "\n",
    "Ici, vous devez vous même créer les données de reconnaissance des caractères manuscrits. \n",
    "L'idée n'est pas de construire un classifieur très compliqué, mais de bien comrendre l'importance du prétraitement dans la performance de la classification. "
   ]
  },
  {
   "cell_type": "markdown",
   "metadata": {},
   "source": [
    "Il y a 2 tâches à réaliser : \n",
    "- extraire et préparer les données brutes à partir de fichiers images (des planches de nombres manuscrits)\n",
    "- voir quels effets améliorent la reconnaissance. Parmis les effets à tester, on a : la couleur (RGB, greyscale ou noir et blanc), la résolution de l'image, l'ajout de flou, l'ajout de netteté, la suppression du bruit (filtre median), ..."
   ]
  },
  {
   "cell_type": "markdown",
   "metadata": {},
   "source": [
    "Ci dessous, quelques fonctions utiles pour manipuler les images avec PIL.\n",
    "https://pillow.readthedocs.io/en/4.0.x/reference/Image.html"
   ]
  },
  {
   "cell_type": "code",
   "execution_count": 645,
   "metadata": {
    "collapsed": false
   },
   "outputs": [],
   "source": [
    "from PIL import Image, ImageFilter \n",
    "import numpy as np\n",
    "from PIL.ImageFilter import (GaussianBlur, BLUR, CONTOUR, DETAIL, EDGE_ENHANCE, EDGE_ENHANCE_MORE,\n",
    "    EMBOSS, FIND_EDGES, SMOOTH, SMOOTH_MORE, SHARPEN)\n",
    "import collections\n",
    "import matplotlib.pyplot as plt\n",
    "%matplotlib inline\n",
    "from IPython.display import display "
   ]
  },
  {
   "cell_type": "code",
   "execution_count": 646,
   "metadata": {
    "collapsed": false
   },
   "outputs": [],
   "source": [
    "im = Image.open(\"p001.bmp\")"
   ]
  },
  {
   "cell_type": "code",
   "execution_count": 647,
   "metadata": {
    "collapsed": false
   },
   "outputs": [],
   "source": [
    "#im.show()"
   ]
  },
  {
   "cell_type": "markdown",
   "metadata": {},
   "source": [
    "# Dataset"
   ]
  },
  {
   "cell_type": "code",
   "execution_count": 648,
   "metadata": {
    "collapsed": false
   },
   "outputs": [],
   "source": [
    "import os\n",
    "\n",
    "valuesList = list()\n",
    "labelsList = list()\n",
    "\n",
    "def cropGrille(xinit, y, dx, dy, margex, margey, file, show=False):\n",
    "    x=xinit\n",
    "    im = Image.open(file)\n",
    "    #im = im.filter(GaussianBlur(radius=10))\n",
    "    im = im[120:220]    \n",
    "    plt(im)\n",
    "    \n",
    "    for j in range(10):\n",
    "        x=xinit\n",
    "        for i in range(10):\n",
    "            #box = (x, y, x+dx, y+dy)    \n",
    "            box = (x+margex, y+margey, x+dx-margex, y+dy-margey)\n",
    "            region = im.crop(box)\n",
    "                        \n",
    "            region = region.convert('L')\n",
    "            tab = np.array(region)\n",
    "            tab = tab.reshape((region.size[0] * region.size[1]),)\n",
    "            valuesList.append(tab)\n",
    "            if( file == \"p010.bmp\"):\n",
    "                labelsList.append((j+1)%10)\n",
    "            else :\n",
    "                labelsList.append(j)    \n",
    "            x+=dx  \n",
    "        y=y+dy \n",
    "\n",
    "\n",
    "#for i in range(len(values)):\n",
    " #   print(values[i])\n"
   ]
  },
  {
   "cell_type": "markdown",
   "metadata": {},
   "source": [
    "cropGrille(144, 221, 94, 109, 8, 12, \"p001.bmp\")\n",
    "cropGrille(142, 215, 94, 109, 8, 12, \"p002.bmp\")\n",
    "cropGrille(148, 225, 94, 109, 8, 12, \"p003.bmp\")\n",
    "cropGrille(148, 225, 94, 109, 8, 12, \"p005.bmp\")"
   ]
  },
  {
   "cell_type": "code",
   "execution_count": 649,
   "metadata": {
    "collapsed": true
   },
   "outputs": [
    {
     "ename": "TypeError",
     "evalue": "'BmpImageFile' object has no attribute '__getitem__'",
     "output_type": "error",
     "traceback": [
      "\u001b[0;31m\u001b[0m",
      "\u001b[0;31mTypeError\u001b[0mTraceback (most recent call last)",
      "\u001b[0;32m<ipython-input-649-f3c0e4e6a239>\u001b[0m in \u001b[0;36m<module>\u001b[0;34m()\u001b[0m\n\u001b[1;32m      1\u001b[0m \u001b[0;31m#dataset non contrarié\u001b[0m\u001b[0;34m\u001b[0m\u001b[0;34m\u001b[0m\u001b[0m\n\u001b[0;32m----> 2\u001b[0;31m \u001b[0mcropGrille\u001b[0m\u001b[0;34m(\u001b[0m\u001b[0;36m150\u001b[0m\u001b[0;34m,\u001b[0m \u001b[0;36m225\u001b[0m\u001b[0;34m,\u001b[0m \u001b[0;36m94\u001b[0m\u001b[0;34m,\u001b[0m \u001b[0;36m109\u001b[0m\u001b[0;34m,\u001b[0m \u001b[0;36m10\u001b[0m\u001b[0;34m,\u001b[0m \u001b[0;36m14\u001b[0m\u001b[0;34m,\u001b[0m \u001b[0;34m\"p004.bmp\"\u001b[0m\u001b[0;34m)\u001b[0m\u001b[0;34m\u001b[0m\u001b[0m\n\u001b[0m\u001b[1;32m      3\u001b[0m \u001b[0mcropGrille\u001b[0m\u001b[0;34m(\u001b[0m\u001b[0;36m149\u001b[0m\u001b[0;34m,\u001b[0m \u001b[0;36m225\u001b[0m\u001b[0;34m,\u001b[0m \u001b[0;36m94\u001b[0m\u001b[0;34m,\u001b[0m \u001b[0;36m109\u001b[0m\u001b[0;34m,\u001b[0m \u001b[0;36m10\u001b[0m\u001b[0;34m,\u001b[0m \u001b[0;36m14\u001b[0m\u001b[0;34m,\u001b[0m \u001b[0;34m\"p006.bmp\"\u001b[0m\u001b[0;34m)\u001b[0m\u001b[0;34m\u001b[0m\u001b[0m\n\u001b[1;32m      4\u001b[0m \u001b[0mcropGrille\u001b[0m\u001b[0;34m(\u001b[0m\u001b[0;36m152\u001b[0m\u001b[0;34m,\u001b[0m \u001b[0;36m225\u001b[0m\u001b[0;34m,\u001b[0m \u001b[0;36m94\u001b[0m\u001b[0;34m,\u001b[0m \u001b[0;36m109\u001b[0m\u001b[0;34m,\u001b[0m \u001b[0;36m10\u001b[0m\u001b[0;34m,\u001b[0m \u001b[0;36m14\u001b[0m\u001b[0;34m,\u001b[0m \u001b[0;34m\"p007.bmp\"\u001b[0m\u001b[0;34m)\u001b[0m\u001b[0;34m\u001b[0m\u001b[0m\n\u001b[1;32m      5\u001b[0m \u001b[0mcropGrille\u001b[0m\u001b[0;34m(\u001b[0m\u001b[0;36m153\u001b[0m\u001b[0;34m,\u001b[0m \u001b[0;36m225\u001b[0m\u001b[0;34m,\u001b[0m \u001b[0;36m94\u001b[0m\u001b[0;34m,\u001b[0m \u001b[0;36m109\u001b[0m\u001b[0;34m,\u001b[0m \u001b[0;36m10\u001b[0m\u001b[0;34m,\u001b[0m \u001b[0;36m14\u001b[0m\u001b[0;34m,\u001b[0m \u001b[0;34m\"p008.bmp\"\u001b[0m\u001b[0;34m)\u001b[0m\u001b[0;34m\u001b[0m\u001b[0m\n",
      "\u001b[0;32m<ipython-input-648-4cc89b1c9285>\u001b[0m in \u001b[0;36mcropGrille\u001b[0;34m(xinit, y, dx, dy, margex, margey, file, show)\u001b[0m\n\u001b[1;32m      8\u001b[0m     \u001b[0mim\u001b[0m \u001b[0;34m=\u001b[0m \u001b[0mImage\u001b[0m\u001b[0;34m.\u001b[0m\u001b[0mopen\u001b[0m\u001b[0;34m(\u001b[0m\u001b[0mfile\u001b[0m\u001b[0;34m)\u001b[0m\u001b[0;34m\u001b[0m\u001b[0m\n\u001b[1;32m      9\u001b[0m     \u001b[0;31m#im = im.filter(GaussianBlur(radius=10))\u001b[0m\u001b[0;34m\u001b[0m\u001b[0;34m\u001b[0m\u001b[0m\n\u001b[0;32m---> 10\u001b[0;31m     \u001b[0mim\u001b[0m \u001b[0;34m=\u001b[0m \u001b[0mim\u001b[0m\u001b[0;34m[\u001b[0m\u001b[0;36m120\u001b[0m\u001b[0;34m:\u001b[0m\u001b[0;36m220\u001b[0m\u001b[0;34m]\u001b[0m\u001b[0;34m\u001b[0m\u001b[0m\n\u001b[0m\u001b[1;32m     11\u001b[0m     \u001b[0mplt\u001b[0m\u001b[0;34m(\u001b[0m\u001b[0mim\u001b[0m\u001b[0;34m)\u001b[0m\u001b[0;34m\u001b[0m\u001b[0m\n\u001b[1;32m     12\u001b[0m \u001b[0;34m\u001b[0m\u001b[0m\n",
      "\u001b[0;31mTypeError\u001b[0m: 'BmpImageFile' object has no attribute '__getitem__'"
     ]
    }
   ],
   "source": [
    "#dataset non contrarié\n",
    "cropGrille(150, 225, 94, 109, 10, 14, \"p004.bmp\")\n",
    "cropGrille(149, 225, 94, 109, 10, 14, \"p006.bmp\")\n",
    "cropGrille(152, 225, 94, 109, 10, 14, \"p007.bmp\")\n",
    "cropGrille(153, 225, 94, 109, 10, 14, \"p008.bmp\")\n",
    "cropGrille(152, 225, 94, 109, 10, 14, \"p009.bmp\")\n",
    "cropGrille(152, 225, 94, 109, 10, 14, \"p010.bmp\")\n",
    "\n",
    "valuesArray = np.array(valuesList)\n",
    "labelsArray = np.array(labelsList)\n"
   ]
  },
  {
   "cell_type": "markdown",
   "metadata": {},
   "source": [
    "### Exercice 1 Dataset\n",
    "Après avoir vérifié que le cropping est satisfaisant, construisez le dataset des caractères non contrariés. \n",
    "\n",
    "- x doit désigner un ensemble de 1D-tableaux numpy, chaque tableau consignant les pixels d'une image\n",
    "- y désigne les classes (labels).\n",
    "\n",
    "Remarque :\n",
    "- sur p010.bmp, les 0 sont au début de la feuille. \n",
    "- Sans redimensionnement, les shapes de x et y doivent être (600, 1596) et (600,)\n"
   ]
  },
  {
   "cell_type": "code",
   "execution_count": null,
   "metadata": {},
   "outputs": [],
   "source": [
    "print(collections.Counter(labelsArray))"
   ]
  },
  {
   "cell_type": "markdown",
   "metadata": {},
   "source": [
    "### Exercice 3 Construction du classifieur \n",
    "\n",
    "Testez les classifieurs suivants sur des données DEJA VUES : \n",
    "\n",
    "from sklearn.neural_network import MLPClassifier\n",
    "from sklearn import svm\n",
    "from sklearn import tree\n",
    "\n",
    "... ainsi que votre 1-ppv maison"
   ]
  },
  {
   "cell_type": "markdown",
   "metadata": {},
   "source": [
    "## Evaluation du classifieur"
   ]
  },
  {
   "cell_type": "code",
   "execution_count": null,
   "metadata": {},
   "outputs": [],
   "source": [
    "from sklearn.neural_network import MLPClassifier\n",
    "from sklearn import svm\n",
    "from sklearn import tree\n",
    "\n",
    "testedValue = valuesArray[30]\n",
    "print(\"Tested Value is : \" + str(labelsArray[30]))\n",
    "\n",
    "mplClassifier = MLPClassifier().fit(valuesList, labelsList)\n",
    "mplClassifier.predict([testedValue])\n",
    "\n",
    "print(valuesArray.shape)\n",
    "print(labelsArray.shape)\n",
    "\n",
    "\n",
    "svmClassifier = svm.SVC().fit(valuesArray, labelsArray)\n",
    "svmClassifier.predict([testedValue])\n"
   ]
  },
  {
   "cell_type": "markdown",
   "metadata": {},
   "source": [
    "Afin d'évaluer le classifieur sur des données non vues, on a besoin de diviser les données initiales en 4 ensembles : \n",
    "\n",
    "- x_train et y_train : l'ensemble dit d'apprentissage, utilisé pour construire le classifieur (fit).\n",
    "- x_test et y_test : l'ensemble dit de test, utilisé pour calculer la performance du classifieur sur des DONNEES NON VUES. \n"
   ]
  },
  {
   "cell_type": "markdown",
   "metadata": {},
   "source": [
    "### Exercice 4 Data split\n",
    "Coder une fonction data_split(x, y, prob) permettant de diviser les données initiales (x et y) en  4 tableaux  x_train, x_test, y_train, y_test. (un tuple à renvoyer)\n",
    "Le paramètre prob est un float compris entre 0 et 1 et désigne la probabilité qu'une ligne fasse partie, ou non, de l'ensemble d'apprentissage. Le ratio len(x_train)/len(x_test) sera donc sujet à variation au cours des appels.  "
   ]
  },
  {
   "cell_type": "markdown",
   "metadata": {},
   "source": [
    "Indice Python : vous aurez besoin de zip et de l'opérateur de déballage (*)"
   ]
  },
  {
   "cell_type": "code",
   "execution_count": null,
   "metadata": {
    "collapsed": true
   },
   "outputs": [],
   "source": [
    "x=['a','b','c']\n",
    "y=[1,2,3]\n",
    "l=list(zip(x,y))\n",
    "l"
   ]
  },
  {
   "cell_type": "code",
   "execution_count": null,
   "metadata": {
    "collapsed": true
   },
   "outputs": [],
   "source": [
    "list(zip(*l))"
   ]
  },
  {
   "cell_type": "code",
   "execution_count": null,
   "metadata": {
    "collapsed": true
   },
   "outputs": [],
   "source": [
    "#import random\n",
    "#def data_split(x, y, prob):   "
   ]
  },
  {
   "cell_type": "markdown",
   "metadata": {},
   "source": []
  },
  {
   "cell_type": "code",
   "execution_count": null,
   "metadata": {
    "collapsed": true
   },
   "outputs": [],
   "source": [
    "badClassified = list()\n",
    "def accuracy(y_pred,y) :\n",
    "    res = []\n",
    "    for i in range(len(y_pred)):\n",
    "        if((y_pred[i] != y[i])):\n",
    "            res.append(i)\n",
    "    return res     \n",
    "    #return (sum(y_pred == y))/len(y)"
   ]
  },
  {
   "cell_type": "code",
   "execution_count": null,
   "metadata": {
    "collapsed": false
   },
   "outputs": [],
   "source": [
    "#Usage :\n",
    "#mplClassifier = MLPClassifier().fit(valuesArray, labelsArray)\n",
    "#y_pred = mplClassifier.predict(valuesArray)\n",
    "#print(accuracy(y_pred,labelsArray))"
   ]
  },
  {
   "cell_type": "markdown",
   "metadata": {},
   "source": [
    "### Exercice 6 Performance du classifieurs OCR \n",
    "Mesurer le taux de bonnes réponses pour les différents classifieurs utilisés plus haut.  "
   ]
  },
  {
   "cell_type": "markdown",
   "metadata": {},
   "source": [
    "### Exercice 7 Amélioration des performances\n",
    "Ici, la stratégie est libre, seul compte le taux de bonnes réponses. \n",
    "\n",
    "On pourra toutefois se concentrer sur le prétraitement des images : \n",
    "- appliquer un filtre à l'image avec les fonctions d'ImageFilter\n",
    "- changer la résolution avec resize\n",
    "- la couleur (Mode L, LA, ...)\n",
    "- techniques de centrage, de redressement, de lignes principales, ...\n",
    "\n",
    "En machine learning, cette phase d'expérimentation est souvent déterminante.\n",
    "Elle peut être motivée par : \n",
    "- la nature des exemples mal classés (y a t il du bruit, sont ils tordus, non centrés... ?)\n",
    "- d'autres techniques OCR\n",
    "\n",
    "Et rien ne vous empêche de : \n",
    "- tenter sur les caractères contrariés, ou de mélanger les 2\n",
    "- déterminer les paramètres optimaux des classifieurs avec un gridSearch\n",
    "\n"
   ]
  },
  {
   "cell_type": "code",
   "execution_count": null,
   "metadata": {},
   "outputs": [],
   "source": [
    "from sklearn.model_selection import train_test_split\n",
    "from sklearn import datasets\n",
    "\n",
    "X_train, X_test, y_train, y_test = train_test_split(\n",
    "    valuesArray, labelsArray, test_size=0.4, random_state=0)\n",
    "\n",
    "X_train.shape, y_train.shape\n",
    "\n",
    "X_test.shape, y_test.shape\n",
    "\n",
    "mplClassifier = MLPClassifier().fit(valuesArray, labelsArray)\n",
    "y_pred = mplClassifier.predict(X_test)\n",
    "print(accuracy(y_pred,labelsArray))\n",
    "\n",
    "clf = tree.DecisionTreeClassifier().fit(X_train, y_train)\n",
    "\n",
    "clf.score(X_test, y_test) "
   ]
  },
  {
   "cell_type": "code",
   "execution_count": null,
   "metadata": {},
   "outputs": [],
   "source": [
    "from sklearn.model_selection import cross_val_score\n",
    "clf = tree.DecisionTreeClassifier()\n",
    "scores = cross_val_score(clf, valuesArray, labelsArray, cv=5)\n",
    "scores "
   ]
  },
  {
   "cell_type": "code",
   "execution_count": null,
   "metadata": {},
   "outputs": [],
   "source": []
  }
 ],
 "metadata": {
  "kernelspec": {
   "display_name": "Python 2",
   "language": "python",
   "name": "python2"
  },
  "language_info": {
   "codemirror_mode": {
    "name": "ipython",
    "version": 2
   },
   "file_extension": ".py",
   "mimetype": "text/x-python",
   "name": "python",
   "nbconvert_exporter": "python",
   "pygments_lexer": "ipython2",
   "version": "2.7.15"
  }
 },
 "nbformat": 4,
 "nbformat_minor": 2
}
