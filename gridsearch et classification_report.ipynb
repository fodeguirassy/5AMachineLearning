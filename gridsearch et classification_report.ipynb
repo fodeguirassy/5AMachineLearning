{
 "cells": [
  {
   "cell_type": "markdown",
   "metadata": {},
   "source": [
    "#  Calibrer les hyper paramètres d'un classifieur - gridsearch "
   ]
  },
  {
   "cell_type": "markdown",
   "metadata": {},
   "source": [
    "Dans cette séance, on se focalise sur les paramètres du classifieur, dans le but d'optimiser les (mesures de) performances. \n",
    "1. Mesurer l'impact du paramètre \"max_depth\" d'un DecisionTreeClassifier sur l'accuracy (sur le problème OCR)\n",
    "2. Appliquer un gridsearch en se servant de l'exemple ci dessous. "
   ]
  },
  {
   "cell_type": "markdown",
   "metadata": {},
   "source": [
    "## Optimisation du paramètre max_depth de DecisionTreeClassifier sans gridsearch"
   ]
  },
  {
   "cell_type": "markdown",
   "metadata": {},
   "source": [
    "**Exercice 1** : Faites varier le paramètre max_depth et mesurer la performance (accuracy) de la classification (utiliser notre fonction d'accurarcy)"
   ]
  },
  {
   "cell_type": "code",
   "execution_count": 40,
   "metadata": {
    "collapsed": true
   },
   "outputs": [],
   "source": [
    "def accuracy(y_pred,y) : \n",
    "    return (sum(y_pred == y))/len(y)"
   ]
  },
  {
   "cell_type": "code",
   "execution_count": 59,
   "metadata": {
    "collapsed": true
   },
   "outputs": [
    {
     "name": "stdout",
     "output_type": "stream",
     "text": [
      "0.15\n",
      "0.20416666666666666\n",
      "0.2791666666666667\n",
      "0.3416666666666667\n",
      "0.39166666666666666\n",
      "0.4375\n",
      "0.5791666666666667\n",
      "0.5625\n",
      "0.6\n",
      "0.5958333333333333\n",
      "0.5708333333333333\n",
      "0.575\n",
      "0.6125\n",
      "0.5791666666666667\n",
      "0.5291666666666667\n",
      "0.5916666666666667\n",
      "0.5791666666666667\n",
      "0.575\n",
      "0.5916666666666667\n",
      "0.5708333333333333\n",
      "0.5791666666666667\n",
      "0.6\n",
      "0.6041666666666666\n",
      "0.5958333333333333\n",
      "0.6\n",
      "0.5625\n",
      "0.6041666666666666\n",
      "0.5916666666666667\n",
      "0.6041666666666666\n",
      "0.6166666666666667\n",
      "0.5916666666666667\n",
      "0.575\n",
      "0.5958333333333333\n",
      "0.5791666666666667\n",
      "0.6208333333333333\n",
      "0.6125\n",
      "0.5791666666666667\n",
      "0.5875\n",
      "0.5541666666666667\n",
      "0.5708333333333333\n",
      "0.6125\n",
      "0.6083333333333333\n",
      "0.5875\n",
      "0.5916666666666667\n",
      "0.6166666666666667\n",
      "0.6125\n",
      "0.5791666666666667\n",
      "0.6166666666666667\n",
      "0.5708333333333333\n"
     ]
    },
    {
     "data": {
      "text/plain": [
       "[<matplotlib.lines.Line2D at 0x1a27483d90>]"
      ]
     },
     "execution_count": 59,
     "metadata": {},
     "output_type": "execute_result"
    },
    {
     "data": {
      "image/png": "[encoded data removed]",
      "text/plain": [
       "<Figure size 432x288 with 1 Axes>"
      ]
     },
     "metadata": {},
     "output_type": "display_data"
    }
   ],
   "source": [
    "from sklearn.tree import DecisionTreeClassifier\n",
    "from sklearn.model_selection import train_test_split\n",
    "from sklearn import datasets\n",
    "from PIL import Image, ImageFilter \n",
    "import numpy as np\n",
    "\n",
    "valuesList = list()\n",
    "labelsList = list()\n",
    "\n",
    "def accuracy(y_pred,y) : \n",
    "    return (sum(y_pred == y))/len(y)\n",
    "\n",
    "def cropGrille(xinit, y, dx, dy, margex, margey, file, show=False):\n",
    "    x=xinit\n",
    "    im = Image.open(file)\n",
    "    #im = im.filter(GaussianBlur(radius=10))\n",
    "    #im = im[120:220]    \n",
    "    #plt(im)\n",
    "    \n",
    "    for j in range(10):\n",
    "        x=xinit\n",
    "        for i in range(10):\n",
    "            #box = (x, y, x+dx, y+dy)    \n",
    "            box = (x+margex, y+margey, x+dx-margex, y+dy-margey)\n",
    "            region = im.crop(box)\n",
    "                        \n",
    "            region = region.convert('L')\n",
    "            tab = np.array(region)\n",
    "            tab = tab.reshape((region.size[0] * region.size[1]),)\n",
    "            valuesList.append(tab)\n",
    "            if( file == \"p010.bmp\"):\n",
    "                labelsList.append((j+1)%10)\n",
    "            else :\n",
    "                labelsList.append(j)    \n",
    "            x+=dx  \n",
    "        y=y+dy \n",
    "\n",
    "\n",
    "cropGrille(150, 225, 94, 109, 10, 14, \"séance 3/p004.bmp\")\n",
    "cropGrille(149, 225, 94, 109, 10, 14, \"séance 3/p006.bmp\")\n",
    "cropGrille(152, 225, 94, 109, 10, 14, \"séance 3/p007.bmp\")\n",
    "cropGrille(153, 225, 94, 109, 10, 14, \"séance 3/p008.bmp\")\n",
    "cropGrille(152, 225, 94, 109, 10, 14, \"séance 3/p009.bmp\")\n",
    "cropGrille(152, 225, 94, 109, 10, 14, \"séance 3/p010.bmp\")\n",
    "\n",
    "valuesArray = np.array(valuesList)\n",
    "labelsArray = np.array(labelsList)\n",
    "\n",
    "X_train, X_test, y_train, y_test = train_test_split(\n",
    "    valuesArray, labelsArray, test_size=0.4, random_state=0)\n",
    "\n",
    "customXTrain = valuesArray[400:600]\n",
    "customYTrain = labelsArray[400:600]\n",
    "\n",
    "X_train.shape, y_train.shape\n",
    "\n",
    "X_test.shape, y_test.shape\n",
    "\n",
    "plotTab = []\n",
    "\n",
    "for k in range(1,50) :\n",
    "    current = []\n",
    "    clf = DecisionTreeClassifier(max_depth = k)\n",
    "    clf = clf.fit(X_train, y_train)\n",
    "    y_pred = clf.predict(X_test)\n",
    "    current.append(k)\n",
    "    #print(k)\n",
    "    #print(accuracy(valuesArray, y_pred))\n",
    "    print(clf.score(X_test, y_test))\n",
    "    #current.append(clf.score(X_test, y_test))\n",
    "    plotTab.append(clf.score(X_test, y_test))\n",
    "    \n",
    "plt.plot(plotTab)\n",
    "\n",
    "# complétez ici"
   ]
  },
  {
   "cell_type": "markdown",
   "metadata": {},
   "source": [
    "**Exercice 2** : Produisez un graphique permettant de mesurer visuellement l'effet (de la valeur) du paramètre sur la performance "
   ]
  },
  {
   "cell_type": "code",
   "execution_count": null,
   "metadata": {
    "collapsed": false
   },
   "outputs": [],
   "source": [
    "%matplotlib inline\n",
    "import matplotlib.pyplot as plt\n",
    "\n",
    "import random\n",
    "res = [random.random() for i in range(100)] #cf liste en compréhension en python \n",
    "\n",
    "plt.ylim([0,1])\n",
    "plt.plot(res, label=\"blabla\")\n",
    "plt.title(\"Accuracy en fonction de max_depth\")\n",
    "plt.legend()\n",
    "plt.xlabel(\"abscisses\")\n",
    "plt.ylabel(\"ordonnees\")\n",
    "plt.show()\n",
    "\n",
    "#plt.plot(plotTab)"
   ]
  },
  {
   "cell_type": "markdown",
   "metadata": {},
   "source": [
    "## Optimisation du paramètre max_depth de DecisionTreeClassifier avec gridsearch"
   ]
  },
  {
   "cell_type": "markdown",
   "metadata": {},
   "source": [
    "**Exercice 3** : Vérifiez vos résultats avec un gridsearch et un classification_report"
   ]
  },
  {
   "cell_type": "code",
   "execution_count": null,
   "metadata": {
    "collapsed": true
   },
   "outputs": [],
   "source": [
    "import pandas as pd\n",
    "import numpy as np\n",
    "from sklearn.tree import DecisionTreeClassifier"
   ]
  },
  {
   "cell_type": "code",
   "execution_count": null,
   "metadata": {
    "collapsed": false
   },
   "outputs": [],
   "source": [
    "titanic_data = pd.read_csv(\"http://web.stanford.edu/class/archive/cs/cs109/cs109.1166/stuff/titanic.csv\")"
   ]
  },
  {
   "cell_type": "code",
   "execution_count": null,
   "metadata": {
    "collapsed": false
   },
   "outputs": [],
   "source": [
    "y=titanic_data['Survived']\n",
    "x=titanic_data.drop('Survived', axis=1)\n",
    "x=x.drop('Name', axis=1)\n",
    "x = pd.get_dummies(x, columns=['Sex'])"
   ]
  },
  {
   "cell_type": "code",
   "execution_count": null,
   "metadata": {
    "collapsed": false
   },
   "outputs": [],
   "source": [
    "from __future__ import print_function\n",
    "\n",
    "from sklearn import datasets\n",
    "from sklearn.cross_validation import train_test_split\n",
    "from sklearn.grid_search import GridSearchCV\n",
    "from sklearn.metrics import classification_report\n",
    "from sklearn.svm import SVC\n",
    " \n",
    "\n",
    "X_train, X_test, y_train, y_test = train_test_split(\n",
    "    x, y, test_size=0.5, random_state=0)\n",
    "\n",
    "\n",
    "tuned_parameters =  {'max_depth': np.arange(1, 10)}\n",
    "\n",
    "#scores = ['precision', 'recall', 'accuracy']\n",
    "scores = [ 'accuracy']\n",
    "\n",
    "for score in scores:\n",
    "    print(\"# Tuning hyper-parameters for %s\" % score)\n",
    "    print()\n",
    "\n",
    "    clf = GridSearchCV(DecisionTreeClassifier(), tuned_parameters, cv=5, scoring=score)\n",
    "    clf.fit(X_train, y_train)\n",
    "\n",
    "    print(\"Best parameters set found on development set:\")\n",
    "    print()\n",
    "    print(clf.best_estimator_)\n",
    "    print()\n",
    "    print(\"Grid scores on development set:\")\n",
    "    print()\n",
    "    for params, mean_score, scores in clf.grid_scores_:\n",
    "        print(\"%0.3f (+/-%0.03f) for %r\"\n",
    "              % (mean_score, scores.std() / 2, params))\n",
    "    print()\n",
    "\n",
    "    print(\"Detailed classification report:\")\n",
    "    print()\n",
    "    y_true, y_pred = y_test, clf.predict(X_test)\n",
    "    print(classification_report(y_true, y_pred))\n",
    "    print()\n",
    "\n"
   ]
  },
  {
   "cell_type": "code",
   "execution_count": null,
   "metadata": {
    "collapsed": true
   },
   "outputs": [],
   "source": []
  }
 ],
 "metadata": {
  "kernelspec": {
   "display_name": "Python 2",
   "language": "python",
   "name": "python2"
  },
  "language_info": {
   "codemirror_mode": {
    "name": "ipython",
    "version": 2
   },
   "file_extension": ".py",
   "mimetype": "text/x-python",
   "name": "python",
   "nbconvert_exporter": "python",
   "pygments_lexer": "ipython2",
   "version": "2.7.15"
  }
 },
 "nbformat": 4,
 "nbformat_minor": 2
}
